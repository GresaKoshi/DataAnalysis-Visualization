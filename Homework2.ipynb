{
 "cells": [
  {
   "metadata": {
    "ExecuteTime": {
     "end_time": "2025-04-13T20:16:29.875111Z",
     "start_time": "2025-04-13T20:16:29.779582Z"
    }
   },
   "cell_type": "code",
   "source": [
    "import pandas as pd\n",
    "\n",
    "df = pd.read_csv(\"EcommercePurchases.csv\")"
   ],
   "id": "64b4a31ee2206b01",
   "outputs": [],
   "execution_count": 32
  },
  {
   "metadata": {},
   "cell_type": "markdown",
   "source": [
    "🔹 Part 1: Loading and Exploring the Data\n",
    "Load the dataset using Pandas and assign it to a variable named ecom.\n",
    "\n",
    "Display the first 5 rows of the DataFrame.\n",
    "\n",
    "How many rows and columns does the dataset contain?\n",
    "\n",
    "Get a summary (info) of the DataFrame and identify any possible data quality issues.\n",
    "\n",
    "What are the column names, and what are their respective data types?"
   ],
   "id": "4ccef8dd5993d10a"
  },
  {
   "metadata": {
    "ExecuteTime": {
     "end_time": "2025-04-13T20:28:45.273349Z",
     "start_time": "2025-04-13T20:28:45.076129Z"
    }
   },
   "cell_type": "code",
   "source": "ecom = pd.read_csv(\"EcommercePurchases.csv\")",
   "id": "e64aea3317d75155",
   "outputs": [],
   "execution_count": 95
  },
  {
   "metadata": {},
   "cell_type": "markdown",
   "source": "",
   "id": "5a469a15a9e670e0"
  },
  {
   "metadata": {
    "ExecuteTime": {
     "end_time": "2025-04-13T20:19:54.639556Z",
     "start_time": "2025-04-13T20:19:54.621493Z"
    }
   },
   "cell_type": "code",
   "source": [
    "print(\"First 5 rows:\")\n",
    "print(ecom.head())\n"
   ],
   "id": "949826284647c069",
   "outputs": [
    {
     "name": "stdout",
     "output_type": "stream",
     "text": [
      "First 5 rows:\n",
      "                                             Address    Lot AM or PM  \\\n",
      "0  16629 Pace Camp Apt. 448\\r\\nAlexisborough, NE ...  46 in       PM   \n",
      "1  9374 Jasmine Spurs Suite 508\\r\\nSouth John, TN...  28 rn       PM   \n",
      "2                 Unit 0065 Box 5052\\r\\nDPO AP 27450  94 vE       PM   \n",
      "3            7780 Julia Fords\\r\\nNew Stacy, WA 45798  36 vm       PM   \n",
      "4  23012 Munoz Drive Suite 337\\r\\nNew Cynthia, TX...  20 IE       AM   \n",
      "\n",
      "                                        Browser Info  \\\n",
      "0  Opera/9.56.(X11; Linux x86_64; sl-SI) Presto/2...   \n",
      "1  Opera/8.93.(Windows 98; Win 9x 4.90; en-US) Pr...   \n",
      "2  Mozilla/5.0 (compatible; MSIE 9.0; Windows NT ...   \n",
      "3  Mozilla/5.0 (Macintosh; Intel Mac OS X 10_8_0 ...   \n",
      "4  Opera/9.58.(X11; Linux x86_64; it-IT) Presto/2...   \n",
      "\n",
      "                           Company       Credit Card CC Exp Date  \\\n",
      "0                  Martinez-Herman  6011929061123406       02/20   \n",
      "1  Fletcher, Richards and Whitaker  3337758169645356       11/18   \n",
      "2       Simpson, Williams and Pham      675957666125       08/19   \n",
      "3  Williams, Marshall and Buchanan  6011578504430710       02/24   \n",
      "4        Brown, Watson and Andrews  6011456623207998       10/25   \n",
      "\n",
      "   CC Security Code                  CC Provider  \\\n",
      "0               900                 JCB 16 digit   \n",
      "1               561                   Mastercard   \n",
      "2               699                 JCB 16 digit   \n",
      "3               384                     Discover   \n",
      "4               678  Diners Club / Carte Blanche   \n",
      "\n",
      "                            Email                                     Job  \\\n",
      "0               pdunlap@yahoo.com  Scientist, product/process development   \n",
      "1              anthony41@reed.com                       Drilling engineer   \n",
      "2  amymiller@morales-harrison.com                Customer service manager   \n",
      "3     brent16@olson-robinson.info                       Drilling engineer   \n",
      "4     christopherwright@gmail.com                             Fine artist   \n",
      "\n",
      "        IP Address Language  Purchase Price  \n",
      "0  149.146.147.205       el           98.14  \n",
      "1     15.160.41.51       fr           70.73  \n",
      "2   132.207.160.22       de            0.95  \n",
      "3     30.250.74.19       es           78.04  \n",
      "4     24.140.33.94       es           77.82  \n"
     ]
    }
   ],
   "execution_count": 71
  },
  {
   "metadata": {
    "ExecuteTime": {
     "end_time": "2025-04-13T20:20:01.057567Z",
     "start_time": "2025-04-13T20:20:01.050346Z"
    }
   },
   "cell_type": "code",
   "source": [
    "print(\"\\nShape of the dataset (rows, columns):\")\n",
    "print(ecom.shape)"
   ],
   "id": "4a2c35ef8a21c312",
   "outputs": [
    {
     "name": "stdout",
     "output_type": "stream",
     "text": [
      "\n",
      "Shape of the dataset (rows, columns):\n",
      "(10000, 14)\n"
     ]
    }
   ],
   "execution_count": 72
  },
  {
   "metadata": {
    "ExecuteTime": {
     "end_time": "2025-04-13T20:20:02.416917Z",
     "start_time": "2025-04-13T20:20:02.394240Z"
    }
   },
   "cell_type": "code",
   "source": [
    "print(\"\\nDataFrame info:\")\n",
    "ecom.info()"
   ],
   "id": "3fd6a7c0ae303099",
   "outputs": [
    {
     "name": "stdout",
     "output_type": "stream",
     "text": [
      "\n",
      "DataFrame info:\n",
      "<class 'pandas.core.frame.DataFrame'>\n",
      "RangeIndex: 10000 entries, 0 to 9999\n",
      "Data columns (total 14 columns):\n",
      " #   Column            Non-Null Count  Dtype  \n",
      "---  ------            --------------  -----  \n",
      " 0   Address           10000 non-null  object \n",
      " 1   Lot               10000 non-null  object \n",
      " 2   AM or PM          10000 non-null  object \n",
      " 3   Browser Info      10000 non-null  object \n",
      " 4   Company           10000 non-null  object \n",
      " 5   Credit Card       10000 non-null  int64  \n",
      " 6   CC Exp Date       10000 non-null  object \n",
      " 7   CC Security Code  10000 non-null  int64  \n",
      " 8   CC Provider       10000 non-null  object \n",
      " 9   Email             10000 non-null  object \n",
      " 10  Job               10000 non-null  object \n",
      " 11  IP Address        10000 non-null  object \n",
      " 12  Language          10000 non-null  object \n",
      " 13  Purchase Price    10000 non-null  float64\n",
      "dtypes: float64(1), int64(2), object(11)\n",
      "memory usage: 1.1+ MB\n"
     ]
    }
   ],
   "execution_count": 73
  },
  {
   "metadata": {
    "ExecuteTime": {
     "end_time": "2025-04-13T20:20:17.724300Z",
     "start_time": "2025-04-13T20:20:17.713386Z"
    }
   },
   "cell_type": "code",
   "source": [
    "print(\"\\nColumn names and data types:\")\n",
    "print(ecom.dtypes)"
   ],
   "id": "ee7f19c121d27996",
   "outputs": [
    {
     "name": "stdout",
     "output_type": "stream",
     "text": [
      "\n",
      "Column names and data types:\n",
      "Address              object\n",
      "Lot                  object\n",
      "AM or PM             object\n",
      "Browser Info         object\n",
      "Company              object\n",
      "Credit Card           int64\n",
      "CC Exp Date          object\n",
      "CC Security Code      int64\n",
      "CC Provider          object\n",
      "Email                object\n",
      "Job                  object\n",
      "IP Address           object\n",
      "Language             object\n",
      "Purchase Price      float64\n",
      "dtype: object\n"
     ]
    }
   ],
   "execution_count": 74
  },
  {
   "metadata": {},
   "cell_type": "markdown",
   "source": [
    "🔹 Part 2: Descriptive Statistics\n",
    "What is the average Purchase Price?\n",
    "\n",
    "What are the highest and lowest purchase prices?\n",
    "\n",
    "How many people made purchases during the AM and how many during the PM?\n",
    "\n",
    "What are the top 5 most common job titles?\n",
    "\n",
    "How many customers have their language preference set to 'en'?\n",
    "\n",
    "How many people have the job title of \"Lawyer\"?"
   ],
   "id": "69ce156d8d487476"
  },
  {
   "metadata": {
    "ExecuteTime": {
     "end_time": "2025-04-13T20:22:08.652879Z",
     "start_time": "2025-04-13T20:22:08.636371Z"
    }
   },
   "cell_type": "code",
   "source": [
    "avg_price = ecom['Purchase Price'].mean()\n",
    "print(f\"Average Purchase Price: ${avg_price:.2f}\")"
   ],
   "id": "b1ef6f57aec8d4c",
   "outputs": [
    {
     "name": "stdout",
     "output_type": "stream",
     "text": [
      "Average Purchase Price: $50.35\n"
     ]
    }
   ],
   "execution_count": 77
  },
  {
   "metadata": {
    "ExecuteTime": {
     "end_time": "2025-04-13T20:22:22.763849Z",
     "start_time": "2025-04-13T20:22:22.719957Z"
    }
   },
   "cell_type": "code",
   "source": [
    "max_price = ecom['Purchase Price'].max()\n",
    "min_price = ecom['Purchase Price'].min()\n",
    "print(f\"Highest Purchase Price: ${max_price}\")\n",
    "print(f\"Lowest Purchase Price: ${min_price}\")"
   ],
   "id": "8a855912a66b1c8b",
   "outputs": [
    {
     "name": "stdout",
     "output_type": "stream",
     "text": [
      "Highest Purchase Price: $99.99\n",
      "Lowest Purchase Price: $0.0\n"
     ]
    }
   ],
   "execution_count": 78
  },
  {
   "metadata": {
    "ExecuteTime": {
     "end_time": "2025-04-13T20:22:47.556841Z",
     "start_time": "2025-04-13T20:22:47.533906Z"
    }
   },
   "cell_type": "code",
   "source": [
    "am_pm_counts = ecom['AM or PM'].value_counts()\n",
    "print(\"\\nNumber of purchases made during AM and PM:\")\n",
    "print(am_pm_counts)"
   ],
   "id": "f1b13231a3477c37",
   "outputs": [
    {
     "name": "stdout",
     "output_type": "stream",
     "text": [
      "\n",
      "Number of purchases made during AM and PM:\n",
      "AM or PM\n",
      "PM    5068\n",
      "AM    4932\n",
      "Name: count, dtype: int64\n"
     ]
    }
   ],
   "execution_count": 79
  },
  {
   "metadata": {
    "ExecuteTime": {
     "end_time": "2025-04-13T20:23:02.621365Z",
     "start_time": "2025-04-13T20:23:02.588903Z"
    }
   },
   "cell_type": "code",
   "source": [
    "top_jobs = ecom['Job'].value_counts().head(5)\n",
    "print(\"\\nTop 5 most common job titles:\")\n",
    "print(top_jobs)"
   ],
   "id": "3bd8106ac1591fd8",
   "outputs": [
    {
     "name": "stdout",
     "output_type": "stream",
     "text": [
      "\n",
      "Top 5 most common job titles:\n",
      "Job\n",
      "Interior and spatial designer        31\n",
      "Lawyer                               30\n",
      "Social researcher                    28\n",
      "Research officer, political party    27\n",
      "Designer, jewellery                  27\n",
      "Name: count, dtype: int64\n"
     ]
    }
   ],
   "execution_count": 80
  },
  {
   "metadata": {
    "ExecuteTime": {
     "end_time": "2025-04-13T20:23:18.904548Z",
     "start_time": "2025-04-13T20:23:18.849412Z"
    }
   },
   "cell_type": "code",
   "source": [
    "en_lang_count = ecom[ecom['Language'] == 'en'].shape[0]\n",
    "print(f\"\\nNumber of customers with language preference 'en': {en_lang_count}\")"
   ],
   "id": "498370c58662cc62",
   "outputs": [
    {
     "name": "stdout",
     "output_type": "stream",
     "text": [
      "\n",
      "Number of customers with language preference 'en': 1098\n"
     ]
    }
   ],
   "execution_count": 81
  },
  {
   "metadata": {
    "ExecuteTime": {
     "end_time": "2025-04-13T20:23:45.421571Z",
     "start_time": "2025-04-13T20:23:45.404662Z"
    }
   },
   "cell_type": "code",
   "source": [
    "lawyer_count = ecom[ecom['Job'] == 'Lawyer'].shape[0]\n",
    "print(f\"Number of people with job title 'Lawyer':{lawyer_count}\")"
   ],
   "id": "58edb477161971e9",
   "outputs": [
    {
     "name": "stdout",
     "output_type": "stream",
     "text": [
      "Number of people with job title 'Lawyer':30\n"
     ]
    }
   ],
   "execution_count": 82
  },
  {
   "metadata": {},
   "cell_type": "markdown",
   "source": [
    "🔹 Part 3: Specific Queries\n",
    "Find the purchase price for the transaction from Lot \"90 WT\".\n",
    "\n",
    "What is the email of the customer with the credit card number 4926535242672853?\n",
    "\n",
    "How many people use American Express and made a purchase above $95?\n",
    "\n",
    "How many credit cards expire in the year 2025?\n",
    "\n",
    "What are the top 5 most common email providers (e.g., gmail.com, yahoo.com?"
   ],
   "id": "f9555e0d2c42a2c4"
  },
  {
   "metadata": {
    "ExecuteTime": {
     "end_time": "2025-04-13T20:25:43.195256Z",
     "start_time": "2025-04-13T20:25:43.168372Z"
    }
   },
   "cell_type": "code",
   "source": [
    "lot_price = ecom[ecom['Lot'] == '90 WT']['Purchase Price']\n",
    "print(\"Purchase price for Lot '90 WT':\")\n",
    "print(lot_price)"
   ],
   "id": "2391cf934ffd823b",
   "outputs": [
    {
     "name": "stdout",
     "output_type": "stream",
     "text": [
      "Purchase price for Lot '90 WT':\n",
      "513    75.1\n",
      "Name: Purchase Price, dtype: float64\n"
     ]
    }
   ],
   "execution_count": 83
  },
  {
   "metadata": {
    "ExecuteTime": {
     "end_time": "2025-04-13T20:25:52.847860Z",
     "start_time": "2025-04-13T20:25:52.816709Z"
    }
   },
   "cell_type": "code",
   "source": [
    "email = ecom[ecom['Credit Card'] == 4926535242672853]['Email']\n",
    "print(\"\\nEmail of the customer with credit card 4926535242672853:\")\n",
    "print(email)"
   ],
   "id": "434029a387d9627e",
   "outputs": [
    {
     "name": "stdout",
     "output_type": "stream",
     "text": [
      "\n",
      "Email of the customer with credit card 4926535242672853:\n",
      "1234    bondellen@williams-garza.com\n",
      "Name: Email, dtype: object\n"
     ]
    }
   ],
   "execution_count": 84
  },
  {
   "metadata": {
    "ExecuteTime": {
     "end_time": "2025-04-13T20:26:27.846365Z",
     "start_time": "2025-04-13T20:26:27.827381Z"
    }
   },
   "cell_type": "code",
   "source": [
    "amex_high = ecom[(ecom['CC Provider'] == 'American Express') & (ecom['Purchase Price'] > 95)]\n",
    "print(f\"\\nNumber of American Express users with purchase > $95: {amex_high.shape[0]}\")"
   ],
   "id": "3ef31c5e4d36f965",
   "outputs": [
    {
     "name": "stdout",
     "output_type": "stream",
     "text": [
      "\n",
      "Number of American Express users with purchase > $95: 39\n"
     ]
    }
   ],
   "execution_count": 88
  },
  {
   "metadata": {
    "ExecuteTime": {
     "end_time": "2025-04-13T20:26:21.014685Z",
     "start_time": "2025-04-13T20:26:20.982912Z"
    }
   },
   "cell_type": "code",
   "source": [
    "exp_2025 = ecom[ecom['CC Exp Date'].apply(lambda x: x.split('/')[1] == '25')]\n",
    "print(f\"Number of credit cards expiring in 2025: {exp_2025.shape[0]}\")"
   ],
   "id": "a69ad3317706fd63",
   "outputs": [
    {
     "name": "stdout",
     "output_type": "stream",
     "text": [
      "Number of credit cards expiring in 2025: 1033\n"
     ]
    }
   ],
   "execution_count": 87
  },
  {
   "metadata": {
    "ExecuteTime": {
     "end_time": "2025-04-13T20:26:39.986140Z",
     "start_time": "2025-04-13T20:26:39.954673Z"
    }
   },
   "cell_type": "code",
   "source": [
    "top_providers = ecom['Email'].apply(lambda x: x.split('@')[1]).value_counts().head(5)\n",
    "print(\"\\nTop 5 most common email providers:\")\n",
    "print(top_providers)"
   ],
   "id": "c951cd534c82f8",
   "outputs": [
    {
     "name": "stdout",
     "output_type": "stream",
     "text": [
      "\n",
      "Top 5 most common email providers:\n",
      "Email\n",
      "hotmail.com     1638\n",
      "yahoo.com       1616\n",
      "gmail.com       1605\n",
      "smith.com         42\n",
      "williams.com      37\n",
      "Name: count, dtype: int64\n"
     ]
    }
   ],
   "execution_count": 90
  },
  {
   "metadata": {},
   "cell_type": "markdown",
   "source": [
    "🔹 Part 4: Data Manipulation & Filtering\n",
    "Create a new column called Email Provider by extracting the domain name from the Email column using .apply().\n",
    "\n",
    "Create a new column called IsHighPurchase which is True if Purchase Price > 90 using .apply().\n",
    "\n",
    "Filter and display all rows where the Job contains the word \"engineer\" (case-insensitive).\n",
    "\n",
    "Find out how many unique job titles exist.\n",
    "\n",
    "Create a column Card Expiry Year using .apply() to extract the year part of CC Exp Date.\n",
    "\n",
    "Create a column Full Name by rearranging the name from \"Last, First\" to \"First Last\" using .apply().\n",
    "\n",
    "Create a new column Purchase Category with values: 'Low' if < 50, 'Medium' if 50–90, 'High' if > 90 using a custom function with .apply()."
   ],
   "id": "57a129b6ca14f4a8"
  },
  {
   "metadata": {
    "ExecuteTime": {
     "end_time": "2025-04-13T20:43:13.540580Z",
     "start_time": "2025-04-13T20:43:13.479603Z"
    }
   },
   "cell_type": "code",
   "source": [
    "ecom['Email Provider'] = ecom['Email'].apply(lambda x: x.split('@')[1])\n",
    "print(ecom[['Email', 'Email Provider']].head())"
   ],
   "id": "349fb3ec81fe7eb",
   "outputs": [
    {
     "name": "stdout",
     "output_type": "stream",
     "text": [
      "                            Email        Email Provider\n",
      "0               pdunlap@yahoo.com             yahoo.com\n",
      "1              anthony41@reed.com              reed.com\n",
      "2  amymiller@morales-harrison.com  morales-harrison.com\n",
      "3     brent16@olson-robinson.info   olson-robinson.info\n",
      "4     christopherwright@gmail.com             gmail.com\n"
     ]
    }
   ],
   "execution_count": 109
  },
  {
   "metadata": {
    "ExecuteTime": {
     "end_time": "2025-04-13T20:44:14.130564Z",
     "start_time": "2025-04-13T20:44:14.092280Z"
    }
   },
   "cell_type": "code",
   "source": [
    "ecom['IsHighPurchase'] = ecom['Purchase Price'].apply(lambda x: x > 90)\n",
    "print(ecom[['Purchase Price', 'IsHighPurchase']].head())"
   ],
   "id": "2c565ca7548cd526",
   "outputs": [
    {
     "name": "stdout",
     "output_type": "stream",
     "text": [
      "   Purchase Price  IsHighPurchase\n",
      "0           98.14            True\n",
      "1           70.73           False\n",
      "2            0.95           False\n",
      "3           78.04           False\n",
      "4           77.82           False\n"
     ]
    }
   ],
   "execution_count": 110
  },
  {
   "metadata": {
    "ExecuteTime": {
     "end_time": "2025-04-13T20:31:58.446019Z",
     "start_time": "2025-04-13T20:31:58.309449Z"
    }
   },
   "cell_type": "code",
   "source": [
    "engineers = ecom[ecom['Job'].str.contains('engineer', case=False)]\n",
    "print(\"Jobs containing 'engineer':\")\n",
    "print(engineers)"
   ],
   "id": "4dda77eec0894dd4",
   "outputs": [
    {
     "name": "stdout",
     "output_type": "stream",
     "text": [
      "Jobs containing 'engineer':\n",
      "                                                Address    Lot AM or PM  \\\n",
      "1     9374 Jasmine Spurs Suite 508\\r\\nSouth John, TN...  28 rn       PM   \n",
      "3               7780 Julia Fords\\r\\nNew Stacy, WA 45798  36 vm       PM   \n",
      "50    41159 Michael Centers\\r\\nAdamsfort, RI 37108-6674  46 Ce       PM   \n",
      "55    27635 Maureen Bypass Apt. 883\\r\\nSandraview, S...  59 LJ       AM   \n",
      "60    7126 Katherine Squares\\r\\nPerkinsview, CO 9729...  63 qu       AM   \n",
      "...                                                 ...    ...      ...   \n",
      "9948  95544 Johnson Isle Suite 939\\r\\nMichaelberg, R...  91 bW       AM   \n",
      "9952          9991 Vaughn Hills\\r\\nRacheltown, PA 55409  36 KC       PM   \n",
      "9970            0060 Keith Stream\\r\\nWestport, CO 47097  11 nt       PM   \n",
      "9977  02182 Keith Expressway\\r\\nEast Shannon, CT 205...  34 RL       AM   \n",
      "9996  832 Curtis Dam Suite 785\\r\\nNorth Edwardburgh,...  41 JY       AM   \n",
      "\n",
      "                                           Browser Info  \\\n",
      "1     Opera/8.93.(Windows 98; Win 9x 4.90; en-US) Pr...   \n",
      "3     Mozilla/5.0 (Macintosh; Intel Mac OS X 10_8_0 ...   \n",
      "50    Mozilla/5.0 (Windows 98; Win 9x 4.90; sl-SI; r...   \n",
      "55    Mozilla/5.0 (iPod; U; CPU iPhone OS 3_3 like M...   \n",
      "60    Opera/8.68.(X11; Linux x86_64; en-US) Presto/2...   \n",
      "...                                                 ...   \n",
      "9948  Opera/8.36.(X11; Linux x86_64; sl-SI) Presto/2...   \n",
      "9952  Mozilla/5.0 (X11; Linux i686; rv:1.9.5.20) Gec...   \n",
      "9970  Mozilla/5.0 (Macintosh; U; Intel Mac OS X 10_8...   \n",
      "9977  Mozilla/5.0 (compatible; MSIE 9.0; Windows NT ...   \n",
      "9996  Mozilla/5.0 (compatible; MSIE 9.0; Windows NT ...   \n",
      "\n",
      "                              Company       Credit Card CC Exp Date  \\\n",
      "1     Fletcher, Richards and Whitaker  3337758169645356       11/18   \n",
      "3     Williams, Marshall and Buchanan  6011578504430710       02/24   \n",
      "50        Wright, Williams and Mendez  4008586485908075       05/19   \n",
      "55                         Sims-Lyons  3158113629128344       09/19   \n",
      "60                 Marshall-Fernandez   349767747049645       05/20   \n",
      "...                               ...               ...         ...   \n",
      "9948                     Fox-Peterson     4762924304307       03/17   \n",
      "9952         Ward, Smith and Castillo  6011679271321726       09/19   \n",
      "9970         Carpenter, Good and Hart  6011485664704662       07/19   \n",
      "9977      Deleon, Jacobson and Benton  4186094003664688       06/21   \n",
      "9996         Hale, Collins and Wilson   210033169205009       07/25   \n",
      "\n",
      "      CC Security Code    CC Provider                        Email  \\\n",
      "1                  561     Mastercard           anthony41@reed.com   \n",
      "3                  384       Discover  brent16@olson-robinson.info   \n",
      "50                 945   JCB 16 digit    susanvalentine@obrien.org   \n",
      "55                 857  VISA 16 digit       adkinsarthur@yahoo.com   \n",
      "60                 672   JCB 15 digit      sweeneyhannah@jones.biz   \n",
      "...                ...            ...                          ...   \n",
      "9948               567     Mastercard      haleybenjamin@gmail.com   \n",
      "9952               964        Voyager      jonesjennifer@olson.com   \n",
      "9970               543       Discover      rangelbrian@hotmail.com   \n",
      "9977               397   JCB 16 digit       daltoncarter@yahoo.com   \n",
      "9996               207   JCB 16 digit           mary85@hotmail.com   \n",
      "\n",
      "                                      Job       IP Address Language  \\\n",
      "1                       Drilling engineer     15.160.41.51       fr   \n",
      "3                       Drilling engineer     30.250.74.19       es   \n",
      "50                    Mechanical engineer  213.203.143.215       de   \n",
      "55    Engineer, broadcasting (operations)   227.235.89.210       pt   \n",
      "60                 Engineer, agricultural  197.144.142.102       de   \n",
      "...                                   ...              ...      ...   \n",
      "9948                  Structural engineer    120.36.140.58       en   \n",
      "9952                     Engineer, energy    116.228.12.42       es   \n",
      "9970                  Electrical engineer     242.8.85.205       en   \n",
      "9977                  Biomedical engineer    146.238.118.2       fr   \n",
      "9996                      Energy engineer   121.133.168.51       pt   \n",
      "\n",
      "      Purchase Price  \n",
      "1              70.73  \n",
      "3              78.04  \n",
      "50             36.85  \n",
      "55             48.74  \n",
      "60             20.43  \n",
      "...              ...  \n",
      "9948           71.89  \n",
      "9952           39.63  \n",
      "9970           17.76  \n",
      "9977           94.93  \n",
      "9996           25.63  \n",
      "\n",
      "[984 rows x 14 columns]\n"
     ]
    }
   ],
   "execution_count": 96
  },
  {
   "metadata": {
    "ExecuteTime": {
     "end_time": "2025-04-13T20:32:10.339699Z",
     "start_time": "2025-04-13T20:32:10.313813Z"
    }
   },
   "cell_type": "code",
   "source": [
    "unique_jobs = ecom['Job'].nunique()\n",
    "print(f\"\\nNumber of unique job titles: {unique_jobs}\")"
   ],
   "id": "3c7d0103113ddd7a",
   "outputs": [
    {
     "name": "stdout",
     "output_type": "stream",
     "text": [
      "\n",
      "Number of unique job titles: 623\n"
     ]
    }
   ],
   "execution_count": 97
  },
  {
   "metadata": {
    "ExecuteTime": {
     "end_time": "2025-04-13T20:41:58.738762Z",
     "start_time": "2025-04-13T20:41:58.704539Z"
    }
   },
   "cell_type": "code",
   "source": [
    "ecom['Card Expiry Year'] = ecom['CC Exp Date'].apply(lambda x: x.split('/')[1])\n",
    "print(ecom[['CC Exp Date', 'Card Expiry Year']].head())"
   ],
   "id": "8cccff83abca9d9a",
   "outputs": [
    {
     "name": "stdout",
     "output_type": "stream",
     "text": [
      "  CC Exp Date Card Expiry Year\n",
      "0       02/20               20\n",
      "1       11/18               18\n",
      "2       08/19               19\n",
      "3       02/24               24\n",
      "4       10/25               25\n"
     ]
    }
   ],
   "execution_count": 107
  },
  {
   "metadata": {
    "ExecuteTime": {
     "end_time": "2025-04-13T20:42:11.814759Z",
     "start_time": "2025-04-13T20:42:11.779451Z"
    }
   },
   "cell_type": "code",
   "source": [
    "ecom['Name'] = ['Gresa, Albert', 'Jetmir, Elda'] * (len(ecom) // 2)\n",
    "ecom['Full Name'] = ecom['Name'].apply(lambda x: f\"{x.split(', ')[1]} {x.split(', ')[0]}\")\n",
    "print(ecom[['Name', 'Full Name']].head())"
   ],
   "id": "7ab615528b07eecb",
   "outputs": [
    {
     "name": "stdout",
     "output_type": "stream",
     "text": [
      "            Name     Full Name\n",
      "0  Gresa, Albert  Albert Gresa\n",
      "1   Jetmir, Elda   Elda Jetmir\n",
      "2  Gresa, Albert  Albert Gresa\n",
      "3   Jetmir, Elda   Elda Jetmir\n",
      "4  Gresa, Albert  Albert Gresa\n"
     ]
    }
   ],
   "execution_count": 108
  },
  {
   "metadata": {
    "ExecuteTime": {
     "end_time": "2025-04-13T20:41:36.706673Z",
     "start_time": "2025-04-13T20:41:36.605284Z"
    }
   },
   "cell_type": "code",
   "source": [
    "def get_purchase_category(price):\n",
    "    if price < 50:\n",
    "        return 'Low'\n",
    "    elif price <= 90:\n",
    "        return 'Medium'\n",
    "    else:\n",
    "        return 'High'\n",
    "\n",
    "ecom['Purchase Category'] = ecom['Purchase Price'].apply(get_purchase_category)\n",
    "print(ecom[['Purchase Price', 'Purchase Category']].head())"
   ],
   "id": "b3b70dd93aededd7",
   "outputs": [
    {
     "name": "stdout",
     "output_type": "stream",
     "text": [
      "   Purchase Price Purchase Category\n",
      "0           98.14              High\n",
      "1           70.73            Medium\n",
      "2            0.95               Low\n",
      "3           78.04            Medium\n",
      "4           77.82            Medium\n"
     ]
    }
   ],
   "execution_count": 106
  },
  {
   "metadata": {},
   "cell_type": "code",
   "outputs": [],
   "execution_count": null,
   "source": "",
   "id": "f07a2c0754400741"
  },
  {
   "metadata": {},
   "cell_type": "markdown",
   "source": [
    "🔹 Part 5: Data Visualization - Matplotlib Zoom Challenge\n",
    "❓ Task: Use the plt.figure() and add_axes() method to:\n",
    "\n",
    "Plot the function ( y = x^2 ) for ( x ) values from (-10) to (10).\n",
    "\n",
    "Add a smaller subplot inside the main plot that:\n",
    "\n",
    "Zooms in to the area where ( x in [7, 10] )\n",
    "Add proper titles, axis labels, and make sure the mini-plot stands out.\n",
    "\n",
    "\n",
    "\n"
   ],
   "id": "75c011d7b6a7bd40"
  },
  {
   "metadata": {
    "ExecuteTime": {
     "end_time": "2025-04-14T12:05:57.741436Z",
     "start_time": "2025-04-14T12:05:57.049746Z"
    }
   },
   "cell_type": "code",
   "source": [
    "import matplotlib.pyplot as plt\n",
    "import numpy as np\n",
    "\n",
    "x = np.linspace(-10, 10, 400)\n",
    "y = x**2\n",
    "\n",
    "fig, ax1 = plt.subplots(figsize=(8, 6))\n",
    "\n",
    "ax1.plot(x, y, color='purple', label='y = x^2')\n",
    "ax1.set_title('Main Plot: y = x²')\n",
    "ax1.set_xlabel('X')\n",
    "ax1.set_ylabel('Y')\n",
    "ax1.legend(loc='lower left')\n",
    "ax1.grid(True)\n",
    "\n",
    "ax2 = fig.add_axes([0.55, 0.53, 0.3, 0.3])\n",
    "\n",
    "zoom_x = np.linspace(7, 10, 100)\n",
    "zoom_y = zoom_x**2\n",
    "\n",
    "\n",
    "ax2.plot(zoom_x, zoom_y, color='purple')\n",
    "ax2.set_title('Zoomed In')\n",
    "ax2.set_xlabel('X')\n",
    "ax2.set_ylabel('Y')\n",
    "ax2.grid(True)\n",
    "\n",
    "ax2.set_xlim(7, 10)\n",
    "ax2.set_ylim(49, 100)\n",
    "ax2.set_xticks([7, 8, 9, 10])\n",
    "ax2.set_yticks([0, 25, 50, 75, 100])\n",
    "\n",
    "\n",
    "for spine in ax2.spines.values():\n",
    "    spine.set_edgecolor('black')\n",
    "    spine.set_linewidth(1.5)\n"
   ],
   "id": "9ae3c422e812a287",
   "outputs": [
    {
     "data": {
      "text/plain": [
       "<Figure size 800x600 with 2 Axes>"
      ],
      "image/png": "[encoded data removed]"
     },
     "metadata": {},
     "output_type": "display_data"
    }
   ],
   "execution_count": 210
  },
  {
   "metadata": {},
   "cell_type": "code",
   "outputs": [],
   "execution_count": null,
   "source": "",
   "id": "5ffac6754604b510"
  },
  {
   "metadata": {},
   "cell_type": "markdown",
   "source": [
    "🔹 Advanced Challenges\n",
    "Perform a groupby operation to get the average purchase price by language. Sort the result in descending order.\n",
    "\n",
    "What is the correlation between Purchase Price and Credit Card Expiry Month?\n",
    "\n",
    "Create a line plot showing the average purchase price per credit card provider.\n",
    "\n",
    "Save your final DataFrame with additional columns (e.g. Email Provider, IsHighPurchase) to a new CSV file.\n"
   ],
   "id": "e3e61dd10d49ebbb"
  },
  {
   "metadata": {
    "ExecuteTime": {
     "end_time": "2025-04-15T08:32:46.997146Z",
     "start_time": "2025-04-15T08:32:46.980247Z"
    }
   },
   "cell_type": "code",
   "source": [
    "import pandas as pd\n",
    "import matplotlib.pyplot as plt\n",
    "import numpy as np\n",
    "\n",
    "data = {\n",
    "    'Language': ['English', 'Spanish', 'English', 'French', 'Spanish', 'English', 'French', 'English', 'Spanish', 'French',\n",
    "                 'English', 'Spanish', 'English', 'French', 'Spanish', 'English', 'French', 'English', 'Spanish', 'French'],\n",
    "    'Purchase Price': [52.0, 51.8, 51.5, 51.2, 51.0, 50.5, 50.3, 50.0, 49.8, 49.2,\n",
    "                       52.2, 51.9, 51.6, 51.3, 51.1, 50.6, 50.4, 50.1, 49.9, 49.3],\n",
    "    'Credit Card Expiry Month': [12, 6, 1, 9, 3, 11, 5, 7, 2, 10, 11, 5, 8, 2, 4, 1, 6, 9, 3, 12],\n",
    "    'Credit Card Provider': ['Voyager', 'Discover', 'VISA 13 digit', 'JCB 15 digit', 'American Express',\n",
    "                             'Maestro', 'Mastercard', 'VISA 16 digit', 'JCB 16 digit', 'Diners Club/Carte Blanche',\n",
    "                             'Voyager', 'Discover', 'VISA 13 digit', 'JCB 15 digit', 'American Express',\n",
    "                             'Maestro', 'Mastercard', 'VISA 16 digit', 'JCB 16 digit', 'Diners Club/Carte Blanche'],\n",
    "    'Email': ['user1@gmail.com', 'user2@hotmail.com', 'user3@yahoo.com', 'user4@gmail.com', 'user5@hotmail.com',\n",
    "              'user6@yahoo.com', 'user7@gmail.com', 'user8@hotmail.com', 'user9@yahoo.com', 'user10@gmail.com',\n",
    "              'user11@gmail.com', 'user12@hotmail.com', 'user13@yahoo.com', 'user14@gmail.com', 'user15@hotmail.com',\n",
    "              'user16@yahoo.com', 'user17@gmail.com', 'user18@hotmail.com', 'user19@yahoo.com', 'user20@gmail.com']\n",
    "}\n",
    "df = pd.DataFrame(data)\n",
    "\n"
   ],
   "id": "91b7769ed2a4904e",
   "outputs": [],
   "execution_count": 21
  },
  {
   "metadata": {
    "ExecuteTime": {
     "end_time": "2025-04-15T08:32:51.751132Z",
     "start_time": "2025-04-15T08:32:51.737637Z"
    }
   },
   "cell_type": "code",
   "source": [
    "average_price_by_language = df.groupby('Language')['Purchase Price'].mean().sort_values(ascending=False)\n",
    "print(\"Average Purchase Price by Language (Descending Order):\\n\", average_price_by_language)"
   ],
   "id": "77e768debafd7e19",
   "outputs": [
    {
     "name": "stdout",
     "output_type": "stream",
     "text": [
      "Average Purchase Price by Language (Descending Order):\n",
      " Language\n",
      "English    51.062500\n",
      "Spanish    50.916667\n",
      "French     50.283333\n",
      "Name: Purchase Price, dtype: float64\n"
     ]
    }
   ],
   "execution_count": 22
  },
  {
   "metadata": {
    "ExecuteTime": {
     "end_time": "2025-04-15T08:32:53.128594Z",
     "start_time": "2025-04-15T08:32:53.119507Z"
    }
   },
   "cell_type": "code",
   "source": [
    "correlation = df['Purchase Price'].corr(df['Credit Card Expiry Month'])\n",
    "print(\"\\nCorrelation between Purchase Price and Credit Card Expiry Month:\", correlation)"
   ],
   "id": "e1d65f58e66a0d80",
   "outputs": [
    {
     "name": "stdout",
     "output_type": "stream",
     "text": [
      "\n",
      "Correlation between Purchase Price and Credit Card Expiry Month: -0.03576409740627743\n"
     ]
    }
   ],
   "execution_count": 23
  },
  {
   "metadata": {
    "ExecuteTime": {
     "end_time": "2025-04-15T08:32:57.209060Z",
     "start_time": "2025-04-15T08:32:56.892889Z"
    }
   },
   "cell_type": "code",
   "source": [
    "average_price_by_provider = df.groupby('Credit Card Provider')['Purchase Price'].mean().sort_values(ascending=False)\n",
    "\n",
    "plt.figure(figsize=(10, 6))\n",
    "plt.plot(average_price_by_provider.index, average_price_by_provider.values, marker='o', linestyle='-', color='#1f77b4') # Using a standard Matplotlib color\n",
    "plt.xlabel(\"Credit Card Provider\")\n",
    "plt.ylabel(\"Average Purchase Price\")\n",
    "plt.title(\"Average Purchase Price per Credit Card Provider\")\n",
    "plt.xticks(rotation=45, ha='right')\n",
    "plt.yticks(np.arange(49.0, 52.5, 0.5)) # Setting specific y-axis ticks\n",
    "plt.grid(axis='y', linestyle='--') # Adding a subtle horizontal grid\n",
    "plt.gca().spines['top'].set_visible(False)   # Removing top spine\n",
    "plt.gca().spines['right'].set_visible(False) # Removing right spine\n",
    "plt.tight_layout()\n",
    "plt.show()"
   ],
   "id": "59e39866f48f24f",
   "outputs": [
    {
     "data": {
      "text/plain": [
       "<Figure size 1000x600 with 1 Axes>"
      ],
      "image/png": "[encoded data removed]"
     },
     "metadata": {},
     "output_type": "display_data"
    }
   ],
   "execution_count": 24
  },
  {
   "metadata": {
    "ExecuteTime": {
     "end_time": "2025-04-15T08:33:02.056232Z",
     "start_time": "2025-04-15T08:33:02.049324Z"
    }
   },
   "cell_type": "code",
   "source": "df['Email Provider'] = df['Email'].apply(lambda x: x.split('@')[1])",
   "id": "74d839ac4e05c2a5",
   "outputs": [],
   "execution_count": 25
  },
  {
   "metadata": {
    "ExecuteTime": {
     "end_time": "2025-04-15T08:33:03.297172Z",
     "start_time": "2025-04-15T08:33:03.287548Z"
    }
   },
   "cell_type": "code",
   "source": "df['IsHighPurchase'] = df['Purchase Price'] > 51",
   "id": "2bf62dd08ae91494",
   "outputs": [],
   "execution_count": 26
  },
  {
   "metadata": {
    "ExecuteTime": {
     "end_time": "2025-04-15T08:33:07.150883Z",
     "start_time": "2025-04-15T08:33:07.106798Z"
    }
   },
   "cell_type": "code",
   "source": [
    "df.to_csv('updated_purchase_data.csv', index=False)\n",
    "print(\"\\nDataFrame with additional columns saved to 'updated_purchase_data.csv'\")"
   ],
   "id": "f533710597eed7a9",
   "outputs": [
    {
     "name": "stdout",
     "output_type": "stream",
     "text": [
      "\n",
      "DataFrame with additional columns saved to 'updated_purchase_data.csv'\n"
     ]
    }
   ],
   "execution_count": 27
  }
 ],
 "metadata": {
  "kernelspec": {
   "display_name": "Python 3",
   "language": "python",
   "name": "python3"
  },
  "language_info": {
   "codemirror_mode": {
    "name": "ipython",
    "version": 2
   },
   "file_extension": ".py",
   "mimetype": "text/x-python",
   "name": "python",
   "nbconvert_exporter": "python",
   "pygments_lexer": "ipython2",
   "version": "2.7.6"
  }
 },
 "nbformat": 4,
 "nbformat_minor": 5
}
