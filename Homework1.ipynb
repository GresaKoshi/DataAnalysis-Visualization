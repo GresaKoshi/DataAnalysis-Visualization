{
 "cells": [
  {
   "cell_type": "code",
   "id": "initial_id",
   "metadata": {
    "collapsed": true,
    "ExecuteTime": {
     "end_time": "2025-03-21T16:00:50.467950Z",
     "start_time": "2025-03-21T16:00:50.460872Z"
    }
   },
   "source": [
    "# Given this nest dictionary grab the word \"hello\"\n",
    "d = {'k1':[1,2,3,{'tricky':['test','apple','inception',{'target':[1,2,3,'hello']}]}]}"
   ],
   "outputs": [],
   "execution_count": 1
  },
  {
   "metadata": {
    "ExecuteTime": {
     "end_time": "2025-03-21T16:05:21.130686Z",
     "start_time": "2025-03-21T16:05:21.115928Z"
    }
   },
   "cell_type": "code",
   "source": [
    "hello = d['k1'][3]['tricky'][3]['target'][3]\n",
    "\n",
    "print(hello)\n"
   ],
   "id": "d011a25068fa7df5",
   "outputs": [
    {
     "name": "stdout",
     "output_type": "stream",
     "text": [
      "hello\n"
     ]
    }
   ],
   "execution_count": 10
  },
  {
   "metadata": {},
   "cell_type": "code",
   "outputs": [],
   "execution_count": null,
   "source": [
    "# Task 1: Fix the issue in the following function so that the `modify()` function does NOT modify the global `x`.\n",
    "#x = 10\n",
    "\n",
    "#def modify():\n",
    "   # x = x + 5  # Fix this\n",
    "   # print(x)\n",
    "\n",
    "#modify()\n",
    "#print(x)  # Should still print 10"
   ],
   "id": "5f94adcd86fea6bf"
  },
  {
   "metadata": {
    "ExecuteTime": {
     "end_time": "2025-03-21T16:09:35.917426Z",
     "start_time": "2025-03-21T16:09:35.907053Z"
    }
   },
   "cell_type": "code",
   "source": [
    "x = 10\n",
    "\n",
    "def modify(x):\n",
    "    x = x + 5\n",
    "    print(x)\n",
    "    return x\n",
    "\n",
    "x_new = modify(x)\n",
    "print(x)\n",
    "\n"
   ],
   "id": "81bb32aa24da232c",
   "outputs": [
    {
     "name": "stdout",
     "output_type": "stream",
     "text": [
      "15\n",
      "10\n"
     ]
    }
   ],
   "execution_count": 15
  },
  {
   "metadata": {},
   "cell_type": "code",
   "outputs": [],
   "execution_count": null,
   "source": [
    "# Task 2:\n",
    "# Create a function which takes as parameter a list, and a target value\n",
    "# it returns the combination of two list numbers which sums to target value\n",
    "# if list = [1,2,3] and target = 4, it should return (1,3)"
   ],
   "id": "39e72eec2e7fa8dc"
  },
  {
   "metadata": {
    "ExecuteTime": {
     "end_time": "2025-03-21T16:12:13.088906Z",
     "start_time": "2025-03-21T16:12:13.072812Z"
    }
   },
   "cell_type": "code",
   "source": [
    "def find_pair(lst, target):\n",
    "    for i in range(len(lst)):\n",
    "        for j in range(i + 1, len(lst)):\n",
    "            if lst[i] + lst[j] == target:\n",
    "                return (lst[i], lst[j])\n",
    "    return None\n",
    "\n",
    "\n",
    "print(find_pair([1, 2, 3], 4))\n"
   ],
   "id": "14e97ad554b78b05",
   "outputs": [
    {
     "name": "stdout",
     "output_type": "stream",
     "text": [
      "(1, 3)\n"
     ]
    }
   ],
   "execution_count": 16
  },
  {
   "metadata": {},
   "cell_type": "code",
   "outputs": [],
   "execution_count": null,
   "source": [
    "# Task:\n",
    "# 1. Convert the string \"2024-03-11 14:30:00\" to a `datetime` object\n",
    "# 2. Add 5 days, 3 hours, and 45 minutes\n",
    "# 3. Extract and print only the day of the week"
   ],
   "id": "77ffd2c6bcfe5bcd"
  },
  {
   "metadata": {
    "ExecuteTime": {
     "end_time": "2025-03-21T16:14:42.619946Z",
     "start_time": "2025-03-21T16:14:42.605822Z"
    }
   },
   "cell_type": "code",
   "source": [
    "from datetime import datetime, timedelta\n",
    "\n",
    "date_str = \"2024-03-11 14:30:00\"\n",
    "dt = datetime.strptime(date_str, \"%Y-%m-%d %H:%M:%S\")\n",
    "\n",
    "delta = timedelta(days=5, hours=3, minutes=45)\n",
    "new_dt = dt + delta\n",
    "\n",
    "day_of_week = new_dt.strftime(\"%A\")\n",
    "\n",
    "print(\"Updated DateTime:\", new_dt)\n",
    "print(\"Day of the Week:\", day_of_week)\n"
   ],
   "id": "6a7b22dab9693346",
   "outputs": [
    {
     "name": "stdout",
     "output_type": "stream",
     "text": [
      "Updated DateTime: 2024-03-16 18:15:00\n",
      "Day of the Week: Saturday\n"
     ]
    }
   ],
   "execution_count": 17
  },
  {
   "metadata": {},
   "cell_type": "code",
   "outputs": [],
   "execution_count": null,
   "source": [
    "# Task:\n",
    "# 1. Create a list of integers: [5, 15, 25, 35, 45]\n",
    "# 2. Use the filter() function to remove numbers that are not divisible by 5.\n",
    "# 3. Then, use map() to subtract 2 from each remaining number.\n",
    "# 4. Convert the result back into a list and print it.\n"
   ],
   "id": "9e0064a4aa71ab47"
  },
  {
   "metadata": {
    "ExecuteTime": {
     "end_time": "2025-03-21T16:16:15.504928Z",
     "start_time": "2025-03-21T16:16:15.483419Z"
    }
   },
   "cell_type": "code",
   "source": [
    "numbers = [5, 15, 25, 35, 45]\n",
    "filtered_numbers = filter(lambda x: x % 5 == 0, numbers)\n",
    "modified_numbers = map(lambda x: x - 2, filtered_numbers)\n",
    "result = list(modified_numbers)\n",
    "print(result)\n"
   ],
   "id": "68bb3e02e36d747b",
   "outputs": [
    {
     "name": "stdout",
     "output_type": "stream",
     "text": [
      "[3, 13, 23, 33, 43]\n"
     ]
    }
   ],
   "execution_count": 18
  },
  {
   "metadata": {
    "ExecuteTime": {
     "end_time": "2025-03-21T16:20:20.416619Z",
     "start_time": "2025-03-21T16:20:20.408978Z"
    }
   },
   "cell_type": "code",
   "source": [
    "# Task: Given the matrix below, extract:\n",
    "# 1. Rows 4, 3, 1\n",
    "# 2. Columns 4 and 2\n",
    "# 3. The elements at positions (0,0), (1,2), (3,4).\n",
    "# 4. All values greater than 5\n",
    "\n",
    "#import numpy as np\n",
    "\n",
    "#matrix = np.array([\n",
    " #   [1,  5,  9,  4],\n",
    "  #  [7,  2,  8,  6],\n",
    "   # [3,  8,  5,  9],\n",
    "    #[6,  7,  2,  3],\n",
    "    #[4,  9,  6,  1]\n",
    "#])"
   ],
   "id": "1c05881d25c32544",
   "outputs": [],
   "execution_count": 20
  },
  {
   "metadata": {
    "ExecuteTime": {
     "end_time": "2025-03-21T16:21:01.565780Z",
     "start_time": "2025-03-21T16:21:01.553288Z"
    }
   },
   "cell_type": "code",
   "source": [
    "import numpy as np\n",
    "\n",
    "matrix = np.array([\n",
    "    [1,  5,  9,  4],\n",
    "    [7,  2,  8,  6],\n",
    "    [3,  8,  5,  9],\n",
    "    [6,  7,  2,  3],\n",
    "    [4,  9,  6,  1]\n",
    "])\n",
    "\n",
    "\n",
    "rows_extracted = matrix[[3, 2, 0], :]\n",
    "cols_extracted = matrix[:, [3, 1]]\n",
    "elements = matrix[[0, 1, 3], [0, 2, 3]]\n",
    "values_greater_than_5 = matrix[matrix > 5]\n",
    "\n",
    "print(\"Extracted Rows:\\n\", rows_extracted)\n",
    "print(\"\\nExtracted Columns:\\n\", cols_extracted)\n",
    "print(\"\\nSpecific Elements:\", elements)\n",
    "print(\"\\nValues Greater Than 5:\", values_greater_than_5)\n"
   ],
   "id": "e3fe210f0f84a706",
   "outputs": [
    {
     "name": "stdout",
     "output_type": "stream",
     "text": [
      "Extracted Rows:\n",
      " [[6 7 2 3]\n",
      " [3 8 5 9]\n",
      " [1 5 9 4]]\n",
      "\n",
      "Extracted Columns:\n",
      " [[4 5]\n",
      " [6 2]\n",
      " [9 8]\n",
      " [3 7]\n",
      " [1 9]]\n",
      "\n",
      "Specific Elements: [1 8 3]\n",
      "\n",
      "Values Greater Than 5: [9 7 8 6 8 9 6 7 9 6]\n"
     ]
    }
   ],
   "execution_count": 22
  },
  {
   "metadata": {},
   "cell_type": "code",
   "outputs": [],
   "execution_count": null,
   "source": [
    "# Task: Create a 5x5 matrix filled with random integers between 10 and 50\n",
    "# Subtract the row-wise mean from each row\n",
    "# Divide all even numbers by 2 and multiply odd numbers by 3  hint: use np.where()\n",
    "# p.s row-wise (mesatarja per rresht, tu iteru neper kolona axis=1)"
   ],
   "id": "42be1a6269e854b1"
  },
  {
   "metadata": {
    "ExecuteTime": {
     "end_time": "2025-03-21T16:26:25.970060Z",
     "start_time": "2025-03-21T16:26:25.957514Z"
    }
   },
   "cell_type": "code",
   "source": [
    "np.random.seed(42)\n",
    "matrix = np.random.randint(10, 51, (5, 5))\n",
    "\n",
    "row_means = matrix.mean(axis=1, keepdims=True)\n",
    "normalized_matrix = matrix - row_means\n",
    "transformed_matrix = np.where(normalized_matrix % 2 == 0, normalized_matrix / 2, normalized_matrix * 3)\n",
    "\n",
    "\n",
    "print(\"Original Matrix:\\n\", matrix)\n",
    "\n",
    "print(\"\\nRow-wise Mean Subtracted:\\n\", normalized_matrix)\n",
    "print(\"\\nFinal Transformed Matrix:\\n\", transformed_matrix)\n",
    "\n"
   ],
   "id": "2c64127738a900e0",
   "outputs": [
    {
     "name": "stdout",
     "output_type": "stream",
     "text": [
      "Original Matrix:\n",
      " [[48 38 24 17 30]\n",
      " [48 28 32 20 20]\n",
      " [33 45 49 33 12]\n",
      " [31 11 33 39 47]\n",
      " [11 30 42 21 31]]\n",
      "\n",
      "Row-wise Mean Subtracted:\n",
      " [[ 16.6   6.6  -7.4 -14.4  -1.4]\n",
      " [ 18.4  -1.6   2.4  -9.6  -9.6]\n",
      " [ -1.4  10.6  14.6  -1.4 -22.4]\n",
      " [ -1.2 -21.2   0.8   6.8  14.8]\n",
      " [-16.    3.   15.   -6.    4. ]]\n",
      "\n",
      "Final Transformed Matrix:\n",
      " [[ 49.8  19.8 -22.2 -43.2  -4.2]\n",
      " [ 55.2  -4.8   7.2 -28.8 -28.8]\n",
      " [ -4.2  31.8  43.8  -4.2 -67.2]\n",
      " [ -3.6 -63.6   2.4  20.4  44.4]\n",
      " [ -8.    9.   45.   -3.    2. ]]\n"
     ]
    }
   ],
   "execution_count": 27
  },
  {
   "metadata": {
    "ExecuteTime": {
     "end_time": "2025-03-21T16:28:43.579419Z",
     "start_time": "2025-03-21T16:28:43.574478Z"
    }
   },
   "cell_type": "code",
   "source": [
    "# Task:\n",
    "# 1. Create an array: [3, np.nan, 7, 2, np.nan, 9]\n",
    "# 2. Replace NaNs with the mean of non-NaN values\n",
    "# 3. Count how many NaNs were in the array\n",
    "\n",
    "#array = np.array([3, np.nan, 7, 2, np.nan, 9])\n"
   ],
   "id": "579ef43f9a2eb6e0",
   "outputs": [],
   "execution_count": 28
  },
  {
   "metadata": {
    "ExecuteTime": {
     "end_time": "2025-03-21T16:29:27.267053Z",
     "start_time": "2025-03-21T16:29:27.253014Z"
    }
   },
   "cell_type": "code",
   "source": [
    "array = np.array([3, np.nan, 7, 2, np.nan, 9])\n",
    "\n",
    "nan_mask = np.isnan(array)\n",
    "mean_value = np.nanmean(array)\n",
    "array[nan_mask] = mean_value\n",
    "\n",
    "nan_count = np.sum(nan_mask)\n",
    "\n",
    "print(\"Updated Array:\", array)\n",
    "print(\"Number of NaNs replaced:\", nan_count)\n"
   ],
   "id": "ad3b33e56517cee8",
   "outputs": [
    {
     "name": "stdout",
     "output_type": "stream",
     "text": [
      "Updated Array: [3.   5.25 7.   2.   5.25 9.  ]\n",
      "Number of NaNs replaced: 2\n"
     ]
    }
   ],
   "execution_count": 29
  },
  {
   "metadata": {},
   "cell_type": "code",
   "outputs": [],
   "execution_count": null,
   "source": [
    "# Task: Replace all values above 30°C with \"HOT\", below 20°C with \"COLD\", otherwise \"NORMAL\"\n",
    "#temps = np.array([25, 30, 33, 20, 18, 15, 29, 35])"
   ],
   "id": "d145e248b51eafa9"
  },
  {
   "metadata": {
    "ExecuteTime": {
     "end_time": "2025-03-21T16:32:26.670Z",
     "start_time": "2025-03-21T16:32:26.660087Z"
    }
   },
   "cell_type": "code",
   "source": [
    "temps = np.array([25, 30, 33, 20, 18, 15, 29, 35])\n",
    "\n",
    "categorized_temps = np.where(temps > 30, \"HOT\", np.where(temps < 20, \"COLD\", \"NORMAL\"))\n",
    "\n",
    "print(categorized_temps)\n"
   ],
   "id": "3dab4e1dc0c1aa2c",
   "outputs": [
    {
     "name": "stdout",
     "output_type": "stream",
     "text": [
      "['NORMAL' 'NORMAL' 'HOT' 'NORMAL' 'COLD' 'COLD' 'NORMAL' 'HOT']\n"
     ]
    }
   ],
   "execution_count": 30
  },
  {
   "metadata": {},
   "cell_type": "code",
   "outputs": [],
   "execution_count": null,
   "source": [
    "# Task:\n",
    "# Generate an array of 20 random numbers between 1 and 100\n",
    "# Sort the array in descending order   (hint. [::-1] or np.flip())\n",
    "# Find the index of the largest even number"
   ],
   "id": "868b16a6b0284398"
  },
  {
   "metadata": {
    "ExecuteTime": {
     "end_time": "2025-03-21T16:38:15.409578Z",
     "start_time": "2025-03-21T16:38:15.398128Z"
    }
   },
   "cell_type": "code",
   "source": [
    "arr = np.random.randint(1, 101, 20)\n",
    "\n",
    "sorted_arr = np.sort(arr)[::-1]\n",
    "\n",
    "largest_even_index = np.where(sorted_arr % 2 == 0)[0][0] if np.any(sorted_arr % 2 == 0) else None\n",
    "\n",
    "print(\"Original Array:\", arr)\n",
    "print(\"Sorted Array:\", sorted_arr)\n",
    "print(\"Index of Largest Even Number:\", largest_even_index)\n"
   ],
   "id": "e2c0ea2a518481cf",
   "outputs": [
    {
     "name": "stdout",
     "output_type": "stream",
     "text": [
      "Original Array: [92 89 62 97  1 27 62 77  3 70 72 27  9 62 37 97 51 44 24 79]\n",
      "Sorted Array: [97 97 92 89 79 77 72 70 62 62 62 51 44 37 27 27 24  9  3  1]\n",
      "Index of Largest Even Number: 2\n"
     ]
    }
   ],
   "execution_count": 39
  },
  {
   "metadata": {},
   "cell_type": "code",
   "outputs": [],
   "execution_count": null,
   "source": [
    "# Task: You have a dataset representing daily energy consumption (kWh) for 30 days:\n",
    "# 1.Find dayswhere consumption is above the (mean + 1.5*std) (potential anomalies)\n",
    "# 2.Replace those anomalies with the mean consumption\n",
    "# 3.Normalize the data to range [0, 1]\n",
    "\n",
    "#np.random.seed(42)\n",
    "#energy_data = np.random.randint(200, 600, size=30)\n",
    "\n",
    "# find mean and std\n",
    "\n",
    "\n",
    "# Anomalies: above mean + 1.5 * std\n",
    "\n",
    "\n",
    "# Replace with mean value\n",
    "\n",
    "\n",
    "# Normalize the data to range [0, 1]\n"
   ],
   "id": "8242ff5832f52239"
  },
  {
   "metadata": {
    "ExecuteTime": {
     "end_time": "2025-03-21T16:38:57.415701Z",
     "start_time": "2025-03-21T16:38:57.400612Z"
    }
   },
   "cell_type": "code",
   "source": [
    "np.random.seed(42)\n",
    "energy_data = np.random.randint(200, 600, size=30)\n",
    "mean_consumption = np.mean(energy_data)\n",
    "std_consumption = np.std(energy_data)\n",
    "threshold = mean_consumption + 1.5 * std_consumption\n",
    "anomalies = energy_data > threshold\n",
    "energy_data_cleaned = np.where(anomalies, mean_consumption, energy_data)\n",
    "normalized_data = (energy_data_cleaned - np.min(energy_data_cleaned)) / (np.max(energy_data_cleaned) - np.min(energy_data_cleaned))\n",
    "\n",
    "\n",
    "print(\"Original Data:\", energy_data)\n",
    "print(\"Cleaned Data:\", energy_data_cleaned)\n",
    "print(\"Normalized Data:\", normalized_data)\n"
   ],
   "id": "607d33ce575f867a",
   "outputs": [
    {
     "name": "stdout",
     "output_type": "stream",
     "text": [
      "Original Data: [302 548 470 306 271 388 220 302 321 414 530 287 572 299 559 351 330 349\n",
      " 508 457 543 493 585 391 476 360 513 221 452 435]\n",
      "Cleaned Data: [302.         548.         470.         306.         271.\n",
      " 388.         220.         302.         321.         414.\n",
      " 530.         287.         408.43333333 299.         559.\n",
      " 351.         330.         349.         508.         457.\n",
      " 543.         493.         408.43333333 391.         476.\n",
      " 360.         513.         221.         452.         435.        ]\n",
      "Normalized Data: [0.24188791 0.96755162 0.73746313 0.25368732 0.15044248 0.49557522\n",
      " 0.         0.24188791 0.2979351  0.57227139 0.91445428 0.19764012\n",
      " 0.55585054 0.23303835 1.         0.38643068 0.32448378 0.38053097\n",
      " 0.84955752 0.69911504 0.95280236 0.80530973 0.55585054 0.50442478\n",
      " 0.75516224 0.41297935 0.86430678 0.00294985 0.68436578 0.63421829]\n"
     ]
    }
   ],
   "execution_count": 40
  },
  {
   "metadata": {},
   "cell_type": "code",
   "outputs": [],
   "execution_count": null,
   "source": "",
   "id": "580fec3d3cf4b7b7"
  }
 ],
 "metadata": {
  "kernelspec": {
   "display_name": "Python 3",
   "language": "python",
   "name": "python3"
  },
  "language_info": {
   "codemirror_mode": {
    "name": "ipython",
    "version": 2
   },
   "file_extension": ".py",
   "mimetype": "text/x-python",
   "name": "python",
   "nbconvert_exporter": "python",
   "pygments_lexer": "ipython2",
   "version": "2.7.6"
  }
 },
 "nbformat": 4,
 "nbformat_minor": 5
}
